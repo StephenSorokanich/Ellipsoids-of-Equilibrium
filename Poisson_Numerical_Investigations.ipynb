{
 "cells": [
  {
   "cell_type": "markdown",
   "id": "63bb9f23-0ae1-4768-8bb7-7da104c3e5d1",
   "metadata": {
    "tags": []
   },
   "source": [
    "# Solving the Poisson equation for Newtonian Potential in 2D\n",
    "\n",
    "We begin with Poisson's equation for the Newtonian gravitational potential $\\Phi(x)$ of a uniform density disc in 2 dimensions, which reads \n",
    "$$-\\Delta\\Phi(x) = \\rho(x)\\quad x\\in S^d_R,\\quad d=2.$$\n",
    "\n",
    "Here, $S^d_R$ is the sphere of radius $R$ in dimension $d$, and $\\rho(x)$ is the mass density, taken to be constant, $\\rho(x) = \\rho_0$ in what follows. \n",
    "\n",
    "The problem is particularly useful for testing numerical methods since in 2 and 3 dimensions it has an analytic solution [See Cohl and Palmer, *Fourier and Gegenbauer Expansions for a Fundamental Solution of Laplace's Equation in Hyperspherical Geometry*] \n",
    "\n",
    "In particular, for uniform density $\\rho = \\rho_0>0$, and radius $R = r_0>0$, the exact solution is\n",
    "\n",
    "$$ \\Phi(x) :=\\cases{-\\frac{\\rho_0}{4}\\big(r^2 - r_0^2 +2r_0^2 \\log r_0\\big),\\quad r\\in[0,r_0], \\\\\n",
    "-\\frac{1}{2}\\rho_0 r_0^2 \\log r,\\quad r\\in(r_0,\\infty).}$$\n",
    "\n",
    "This formula says that $\\Phi(r_0)=-\\frac{1}{2}\\rho_0 r_0^2 \\log(r_0)$ at-and-beyond the boundary. We use this as the boundary data for our numerical solver. "
   ]
  },
  {
   "cell_type": "code",
   "execution_count": 1,
   "id": "a7819b16-1454-42a1-8547-4df11d1bda39",
   "metadata": {},
   "outputs": [
    {
     "name": "stdout",
     "output_type": "stream",
     "text": [
      "Info    : Meshing 1D...\n",
      "Info    : Meshing curve 1 (Ellipse)\n",
      "Info    : Done meshing 1D (Wall 0.0011217s, CPU 0.001197s)\n",
      "Info    : Meshing 2D...\n",
      "Info    : Meshing surface 1 (Plane, Frontal-Delaunay)\n",
      "Info    : Done meshing 2D (Wall 0.0830212s, CPU 0.083204s)\n",
      "Info    : 1550 nodes 3099 elements\n"
     ]
    },
    {
     "name": "stderr",
     "output_type": "stream",
     "text": [
      "\u001b[0m\u001b[2m2022-12-11 12:09:50.853 (   1.059s) [        607E5740]    vtkExtractEdges.cxx:435   INFO| \u001b[0mExecuting edge extractor: points are renumbered\u001b[0m\n",
      "\u001b[0m\u001b[2m2022-12-11 12:09:50.856 (   1.063s) [        607E5740]    vtkExtractEdges.cxx:551   INFO| \u001b[0mCreated 4521 edges\u001b[0m\n"
     ]
    },
    {
     "data": {
      "application/vnd.jupyter.widget-view+json": {
       "model_id": "5102930c89234efdbe657d7a23395f1a",
       "version_major": 2,
       "version_minor": 0
      },
      "text/plain": [
       "Renderer(camera=PerspectiveCamera(aspect=1.3333333333333333, children=(DirectionalLight(intensity=0.25, positi…"
      ]
     },
     "metadata": {},
     "output_type": "display_data"
    }
   ],
   "source": [
    "########################################################################################################\n",
    "################################## MESHING #############################################################\n",
    "########################################################################################################\n",
    "import gmsh\n",
    "gmsh.initialize()\n",
    "\n",
    "#we make a circular disc mesh by calling the addEllipse function with major and minor axes = 1\n",
    "ellipse = gmsh.model.occ.addEllipse(0, 0, 0, 1, 1)\n",
    "gmsh.model.occ.addCurveLoop([ellipse], 5)\n",
    "membrane = gmsh.model.occ.addPlaneSurface([5])\n",
    "gmsh.model.occ.synchronize()\n",
    "\n",
    "gdim = 2\n",
    "gmsh.model.addPhysicalGroup(gdim, [membrane], 1)\n",
    "\n",
    "gmsh.option.setNumber(\"Mesh.CharacteristicLengthMin\",0.05)\n",
    "gmsh.option.setNumber(\"Mesh.CharacteristicLengthMax\",0.05)\n",
    "gmsh.model.mesh.generate(gdim)\n",
    "\n",
    "from dolfinx.io import gmshio\n",
    "from mpi4py import MPI\n",
    "\n",
    "gmsh_model_rank = 0\n",
    "mesh_comm = MPI.COMM_WORLD\n",
    "domain, cell_markers, facet_markers = gmshio.model_to_mesh(gmsh.model, mesh_comm, gmsh_model_rank, gdim=gdim)\n",
    "\n",
    "########################################################################################################\n",
    "################################## DEFINE EXACT SOLUTION ###############################################\n",
    "########################################################################################################\n",
    "from dolfinx import fem, mesh, fem, io, nls, log\n",
    "import ufl\n",
    "import numpy\n",
    "from petsc4py.PETSc import ScalarType\n",
    "\n",
    "#define the values of mass density, radius, and log of radius, and create constant functions on \n",
    "#the mesh for these values\n",
    "rho0_0 = 12 #Mass density\n",
    "R0_0 = 1.0 #Radius of disc\n",
    "lnR0_0 = numpy.log(R0_0) #log of disc radius\n",
    "\n",
    "x = ufl.SpatialCoordinate(domain)\n",
    "rho0 = fem.Constant(domain, ScalarType(rho0_0))\n",
    "R0 = fem.Constant(domain, ScalarType(R0_0)) \n",
    "lnR0 = fem.Constant(domain, ScalarType(lnR0_0))\n",
    "\n",
    "#p is the exact analytic solution\n",
    "p = -.25 * rho0 * ((x[0]**2 + x[1]**2) - R0**2 + 2 * R0**2 * lnR0)\n",
    "\n",
    "########################################################################################################\n",
    "################################## DEFINE BOUNDARY CONDITION ###########################################\n",
    "########################################################################################################\n",
    "#note that u_ufl is the same function as p, but is specified using, e.g., R0_0 instead of R0\n",
    "u_ufl = -.25 * rho0_0 * ((x[0]**2 + x[1]**2) - R0_0**2 + 2 * R0_0**2 * lnR0_0)\n",
    "V = fem.FunctionSpace(domain, (\"CG\", 1))\n",
    "u_exact = lambda x: eval(str(u_ufl))\n",
    "u_D = fem.Function(V)\n",
    "u_D.interpolate(u_exact)\n",
    "fdim = domain.topology.dim - 1\n",
    "boundary_facets = mesh.locate_entities_boundary(domain, fdim, lambda x: numpy.full(x.shape[1], True, dtype=bool))\n",
    "\n",
    "bc = fem.dirichletbc(u_D, fem.locate_dofs_topological(V, fdim, boundary_facets))\n",
    "\n",
    "########################################################################################################\n",
    "################################## ALTERNATIVE SPECIFICATION OF BOUNDARY DATA ##########################\n",
    "########################################################################################################\n",
    "#import numpy as np\n",
    "#def on_boundary(x):\n",
    "#    return np.isclose(np.sqrt((x[0])**2 + x[1]**2), 1) #must be changed accordingly for elliptic boundary\n",
    "#boundary_dofs = fem.locate_dofs_geometrical(V, on_boundary)\n",
    "\n",
    "#bc = fem.dirichletbc(p, boundary_dofs, V)\n",
    "\n",
    "########################################################################################################\n",
    "################################## SET UP AND SOLVE VARIATIONAL PROBLEM ################################\n",
    "########################################################################################################\n",
    "u = ufl.TrialFunction(V)\n",
    "v = ufl.TestFunction(V)\n",
    "a = ufl.dot(ufl.grad(u), ufl.grad(v)) * ufl.dx\n",
    "L = rho0 * v * ufl.dx\n",
    "problem = fem.petsc.LinearProblem(a, L, bcs=[bc], petsc_options={\"ksp_type\": \"preonly\", \"pc_type\": \"lu\"})\n",
    "uh = problem.solve()\n",
    "\n",
    "########################################################################################################\n",
    "################################## PLOT SOLUTION USING PYVISTA #########################################\n",
    "########################################################################################################\n",
    "from dolfinx.plot import create_vtk_mesh\n",
    "import pyvista\n",
    "pyvista.set_jupyter_backend(\"pythreejs\")\n",
    "\n",
    "# Extract topology from mesh and create pyvista mesh\n",
    "topology, cell_types, x = create_vtk_mesh(V)\n",
    "grid = pyvista.UnstructuredGrid(topology, cell_types, x)\n",
    "\n",
    "# Set deflection values and add it to plotter\n",
    "grid.point_data[\"u\"] = uh.x.array\n",
    "warped = grid.warp_by_scalar(\"u\", factor=.5)\n",
    "\n",
    "plotter = pyvista.Plotter()\n",
    "plotter.add_mesh(warped, show_edges=True, show_scalar_bar=True, scalars=\"u\")\n",
    "if not pyvista.OFF_SCREEN:\n",
    "    plotter.show()\n",
    "else:\n",
    "    pyvista.start_xvfb()\n",
    "    plotter.screenshot(\"deflection.png\")"
   ]
  },
  {
   "cell_type": "markdown",
   "id": "0b3a12fc-9ff9-4355-bc3c-bd2755f5e493",
   "metadata": {},
   "source": [
    "**Plot of analytical solution** "
   ]
  },
  {
   "cell_type": "code",
   "execution_count": 2,
   "id": "542c631e-0500-41ef-9e04-0ee69bfa8fbd",
   "metadata": {},
   "outputs": [
    {
     "data": {
      "application/vnd.jupyter.widget-view+json": {
       "model_id": "f4ccab87f5a94cc19d17efa3c8d6a4cf",
       "version_major": 2,
       "version_minor": 0
      },
      "text/plain": [
       "Renderer(camera=PerspectiveCamera(aspect=1.3333333333333333, children=(DirectionalLight(intensity=0.25, positi…"
      ]
     },
     "metadata": {},
     "output_type": "display_data"
    }
   ],
   "source": [
    "#pyvista.set_jupyter_backend(\"ipygany\")\n",
    "Q = fem.FunctionSpace(domain, (\"CG\", 5))\n",
    "expr = fem.Expression(p, Q.element.interpolation_points())\n",
    "pressure = fem.Function(Q)\n",
    "pressure.interpolate(expr)\n",
    "\n",
    "load_plotter = pyvista.Plotter()\n",
    "p_grid = pyvista.UnstructuredGrid(*create_vtk_mesh(Q))\n",
    "p_grid.point_data[\"p\"] = pressure.x.array.real\n",
    "warped_p = p_grid.warp_by_scalar(\"p\", factor=0.5)\n",
    "warped_p.set_active_scalars(\"p\")\n",
    "load_plotter.add_mesh(warped_p, show_scalar_bar=True)\n",
    "load_plotter.view_xy()\n",
    "if not pyvista.OFF_SCREEN:\n",
    "    load_plotter.show()\n",
    "else:\n",
    "    pyvista.start_xvfb()\n",
    "    load_plotter.screenshot(\"load.png\")"
   ]
  },
  {
   "cell_type": "markdown",
   "id": "4f47c7c5-c18a-46cd-9868-a8cfd457b4fb",
   "metadata": {},
   "source": [
    "Finally, compute the error between the numerical and analytic solution in a few norms. Quadratic elements should be able to reproduce the solution exactly, so the errors should reflect the machine precision."
   ]
  },
  {
   "cell_type": "code",
   "execution_count": 4,
   "id": "b1aee93a-6e7f-435d-9c44-b6e1bdb612d7",
   "metadata": {},
   "outputs": [],
   "source": [
    "import ufl\n",
    "import numpy as np\n",
    "from mpi4py import MPI\n",
    "from petsc4py import PETSc\n",
    "from dolfinx.fem import (Expression, Function, FunctionSpace,\n",
    "                         assemble_scalar, dirichletbc, form, locate_dofs_topological)\n",
    "from dolfinx.fem.petsc import LinearProblem\n",
    "from dolfinx.mesh import create_unit_square, locate_entities_boundary\n",
    "from ufl import SpatialCoordinate, TestFunction, TrialFunction, div, dot, dx, grad, inner\n",
    "\n",
    "def error_infinity(u_h, u_ex):\n",
    "    # Interpolate exact solution, special handling if exact solution\n",
    "    # is a ufl expression or a python lambda function\n",
    "    comm = u_h.function_space.mesh.comm\n",
    "    u_ex_V = Function(u_h.function_space)\n",
    "    if isinstance(u_ex, ufl.core.expr.Expr):\n",
    "        u_expr = Expression(u_ex, u_h.function_space.element.interpolation_points)\n",
    "        u_ex_V.interpolate(u_expr)\n",
    "    else:\n",
    "        u_ex_V.interpolate(u_ex)\n",
    "    # Compute infinity norm, furst local to process, then gather the max\n",
    "    # value over all processes\n",
    "    error_max_local = np.max(np.abs(u_h.x.array-u_ex_V.x.array))\n",
    "    error_max = comm.allreduce(error_max_local, op=MPI.MAX)\n",
    "    return error_max"
   ]
  },
  {
   "cell_type": "code",
   "execution_count": 5,
   "id": "8dca475e-b739-41e8-9e98-d886044da44b",
   "metadata": {},
   "outputs": [
    {
     "data": {
      "text/plain": [
       "0.0009113031645886505"
      ]
     },
     "execution_count": 5,
     "metadata": {},
     "output_type": "execute_result"
    }
   ],
   "source": [
    "error_infinity(uh, u_exact)"
   ]
  },
  {
   "cell_type": "markdown",
   "id": "be11dc62-2d3a-4099-9f2c-77d791e95556",
   "metadata": {},
   "source": [
    "**Questions and Comments**\n",
    "\n",
    "1.) The generalization of the Poisson problem for a uniform ellipse is a logical next step. The mesh-maker gmsh already has a pre-defined ellipsoidal mesh (this is in fact how the disc was created above). The boundary conditions will be provided via the exact analytic solution, which in 3 dimensions is given by Chandrasekhar by the formula \n",
    "\n",
    "$$\\Phi(x) = \\cases{\\pi G \\rho_0 [I(0) - \\sum_{i=1}^3{A_i(0)x_i^2}],\\quad x\\quad\\mathrm{inside} \\\\ \n",
    "\\pi G \\rho_0 [I(\\lambda) - \\sum_{i=1}^3{A_i(\\lambda)x_i^2}], \\quad x\\quad\\mathrm{outside}} $$\n",
    "\n",
    "where $a_i>0$ are the principle axes, and \n",
    "$$I(u) = a_1 a_2 a_3 \\int_{u}^\\infty{\\frac{du}{\\Delta}},$$\n",
    "\n",
    "$$ A_i(u) = a_1 a_2 a_3 \\int_{u}^\\infty{\\frac{du}{\\Delta(a_i^2 - u)}}$$\n",
    "\n",
    "and $\\Delta^2 = (a_1^2+u)(a_2^2 + u)(a_3^2 +u)$ with $\\lambda$ is the largest root of \n",
    "$$\\sum_{i=1}^3{\\frac{x_i^2}{a_i^2+\\lambda}} = 1.$$\n",
    "\n",
    "Note that the potential will no longer be constant on the surface of the ellipse.\n",
    "\n",
    "2.) The Poisson problem for the ellipse depends on the precise computation of the constants $\\lambda, \\, A_i(\\lambda),\\, I(\\lambda)$. The wiki states that there is a Mathematica program that has been created for this purpose. Some test values for particular choices of $a_1,\\,a_2,\\,a_3$ are provided on the page https://tohline.education/SelfGravitatingFluids/index.php/ThreeDimensionalConfigurations/RiemannStype#TestPart1"
   ]
  }
 ],
 "metadata": {
  "kernelspec": {
   "display_name": "Python 3 (ipykernel)",
   "language": "python",
   "name": "python3"
  },
  "language_info": {
   "codemirror_mode": {
    "name": "ipython",
    "version": 3
   },
   "file_extension": ".py",
   "mimetype": "text/x-python",
   "name": "python",
   "nbconvert_exporter": "python",
   "pygments_lexer": "ipython3",
   "version": "3.10.8"
  }
 },
 "nbformat": 4,
 "nbformat_minor": 5
}
